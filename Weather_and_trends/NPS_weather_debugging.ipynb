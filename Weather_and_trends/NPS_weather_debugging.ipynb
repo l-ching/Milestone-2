{
 "cells": [
  {
   "cell_type": "code",
   "execution_count": 1,
   "metadata": {},
   "outputs": [],
   "source": [
    "import numpy as np\n",
    "import pandas as pd\n",
    "import requests\n",
    "import json\n",
    "from datetime import datetime\n",
    "import time"
   ]
  },
  {
   "cell_type": "code",
   "execution_count": 42,
   "metadata": {},
   "outputs": [],
   "source": [
    "s_id={}\n",
    "s_id['Acadia National Park'] = ['GHCND:USC00172443']\n",
    "s_id['Arches National Park'] = ['GHCND:US1UTGR0005']\n",
    "s_id['Badlands National Park'] = ['GHCND:US1SDPN0019']\n",
    "s_id['Big Bend National Park'] = ['GHCND:USC00411715']\n",
    "s_id['Biscayne National Park'] = ['GHCND:USC00081306']\n",
    "s_id['Black Canyon of the Gunnison National Park'] = ['GHCND:USC00050754']\n",
    "s_id['Bryce Canyon National Park'] = ['GHCND:USS0012M26S']\n",
    "s_id['Canyonlands National Park'] = ['GHCND:USC00423600']\n",
    "s_id['Capitol Reef National Park'] = ['GHCND:USC00421171']\n",
    "s_id['Carlsbad Caverns National Park'] = ['GHCND:USC00290600']\n",
    "s_id['Channel Islands National Park'] = ['GHCND:USC00046572']\n",
    "s_id['Congaree National Park'] = ['GHCND:USW00053867']\n",
    "s_id['Crater Lake National Park'] = ['GHCND:USS0022G06S']\n",
    "s_id['Cuyahoga Valley National Park'] = ['GHCND:USW00014820']\n",
    "s_id['Death Valley National Park'] = ['GHCND:USC00042319']\n",
    "s_id['Denali National Park'] = ['GHCND:USS0050O01S']\n",
    "s_id['Dry Tortugas National Park'] = ['GHCND:USC00084571']\n",
    "s_id['Everglades National Park'] = ['GHCND:USW00092826']\n",
    "s_id['Gates of the Arctic National Park'] = ['GHCND:USS0050S01S']\n",
    "s_id['Gateway Arch National Park'] = ['GHCND:USW00003960']\n",
    "s_id['Glacier Bay National Park'] = ['GHCND:USC00507141']\n",
    "s_id['Glacier National Park'] = ['GHCND:USS0013A19S']\n",
    "s_id['Grand Canyon National Park'] = ['GHCND:USC00026471']\n",
    "s_id['Grand Teton National Park'] = ['GHCND:USS0010F30S']\n",
    "s_id['Great Basin National Park'] = ['GHCND:USW00053138']\n",
    "s_id['Great Sand Dunes National Park'] = ['GHCND:USC00053541']\n",
    "s_id['Great Smoky Mountains National Park'] = ['GHCND:USC00403420']\n",
    "s_id['Guadalupe Mountains National Park'] = ['GHCND:USC00290600']\n",
    "s_id['Haleakala National Park'] = ['GHCND:USC00515000']\n",
    "s_id['Hawaii Volcanoes National Park'] = ['GHCND:USW00021514']\n",
    "s_id['Hot Springs National Park'] = ['GHCND:USW00003962']\n",
    "s_id['Indiana Dunes National Park'] = ['GHCND:USC00111577']\n",
    "s_id['Isle Royale National Park'] = ['GHCND:USW00094992']\n",
    "s_id['Joshua Tree National Park'] = ['GHCND:USC00043855']\n",
    "s_id['Katmai National Park'] = ['GHCND:USS0051K05S']\n",
    "s_id['Kenai Fjords National Park'] = ['GHCND:USS0051K05S']\n",
    "s_id['Kings Canyon National Park'] = ['GHCND:USS0019L13S']\n",
    "s_id['Kobuk Valley National Park'] = ['GHCND:USW00026411']\n",
    "s_id['Lake Clark National Park'] = ['GHCND:USW00026562']\n",
    "s_id['Lassen Volcanic National Park'] = ['GHCND:USC00041700']\n",
    "s_id['Mammoth Cave National Park'] = ['GHCND:USC00155097']\n",
    "s_id['Mesa Verde National Park'] = ['GHCND:USC00055531']\n",
    "s_id['Mount Rainier National Park'] = ['GHCND:USS0021C40S']\n",
    "s_id['National Park of American Samoa'] = ['GHCND:AQW00061705']\n",
    "s_id['New River Gorge National Park'] = ['GHCND:USW00003872']\n",
    "s_id['North Cascades National Park'] = ['GHCND:USC00455840']\n",
    "s_id['Olympic National Park'] = ['GHCND:US1WATH0028']\n",
    "s_id['Petrified Forest National Park'] = ['GHCND:USC00026190']\n",
    "s_id['Pinnacles National Park'] = ['GHCND:US1CAMT0008']\n",
    "s_id['Redwood National Park'] = ['GHCND:USW00024283']\n",
    "s_id['Rocky Mountain National Park'] = ['GHCND:USS0005J39S']\n",
    "s_id['Saguaro National Park'] = ['GHCND:USW00053131']\n",
    "s_id['Sequoia National Park'] = ['GHCND:USS0019L13S']\n",
    "s_id['Shenandoah National Park'] = ['GHCND:US1VAPG0001']\n",
    "s_id['Theodore Roosevelt National Park'] = ['GHCND:USW00094080']\n",
    "s_id['Virgin Islands National Park'] = ['GHCND:VQW00011624']\n",
    "s_id['Voyageurs National Park'] = ['GHCND:USW00014918']\n",
    "s_id['White Sands National Park'] = ['GHCND:USC00299686']\n",
    "s_id['Wind Cave National Park'] = ['GHCND:USC00399347']\n",
    "s_id['Wrangell-St. Elias National Park'] = ['GHCND:USS0042M01S']\n",
    "s_id['Yellowstone National Park'] = ['GHCND:USS0011E07S']\n",
    "s_id['Yosemite National Park'] = ['GHCND:USS0019L13S']\n",
    "s_id['Zion National Park'] = ['GHCND:USS0012M06S']"
   ]
  },
  {
   "cell_type": "code",
   "execution_count": 60,
   "metadata": {},
   "outputs": [
    {
     "name": "stdout",
     "output_type": "stream",
     "text": [
      "1.01\n",
      "-2.37\n",
      "-0.16\n",
      "3.19\n",
      "7.55\n",
      "11.86\n",
      "16.02\n",
      "15.93\n",
      "12.99\n",
      "7.15\n",
      "2.4\n",
      "-3.8\n"
     ]
    }
   ],
   "source": [
    "Token = 'XpapSABquGPOSCjTdKfwjVJrPUAOYlFx'\n",
    "station_id = 'GHCND:USS0019L13S'\n",
    "year='2012'\n",
    "#TAVG or PRCP\n",
    "datatype = 'TAVG'\n",
    "r = requests.get('https://www.ncei.noaa.gov/cdo-web/api/v2/data?datasetid=GSOM&datatypeid='+datatype+'&limit=1000&stationid='+station_id+'&startdate='+year+'-01-01&enddate='+year+'-12-31', headers={'token':Token})\n",
    "d=json.loads(r.text)\n",
    "for month in d['results']:\n",
    "    print(month['value'])"
   ]
  },
  {
   "cell_type": "code",
   "execution_count": 43,
   "metadata": {},
   "outputs": [],
   "source": [
    "Token = 'XpapSABquGPOSCjTdKfwjVJrPUAOYlFx'\n",
    "\n",
    "for park in s_id.keys():\n",
    "    station_id = s_id[park][0]\n",
    "    year='2012'\n",
    "    #TAVG or PRCP\n",
    "    datatype = 'PRCP'\n",
    "    r = requests.get('https://www.ncei.noaa.gov/cdo-web/api/v2/data?datasetid=GSOM&datatypeid='+datatype+'&limit=1000&stationid='+station_id+'&startdate='+year+'-01-01&enddate='+year+'-12-31', headers={'token':Token})\n",
    "    d=json.loads(r.text)\n",
    "    time.sleep(1)\n",
    "    try:\n",
    "        if len(d['results']) != 12:\n",
    "            print(park)\n",
    "    except:\n",
    "        print(park, '1')"
   ]
  },
  {
   "cell_type": "code",
   "execution_count": null,
   "metadata": {},
   "outputs": [],
   "source": []
  }
 ],
 "metadata": {
  "kernelspec": {
   "display_name": "Python 3.10.6 ('env1')",
   "language": "python",
   "name": "python3"
  },
  "language_info": {
   "codemirror_mode": {
    "name": "ipython",
    "version": 3
   },
   "file_extension": ".py",
   "mimetype": "text/x-python",
   "name": "python",
   "nbconvert_exporter": "python",
   "pygments_lexer": "ipython3",
   "version": "3.10.6"
  },
  "orig_nbformat": 4,
  "vscode": {
   "interpreter": {
    "hash": "fdd35c202359319e95c4c766d78d86c3a328e5b204d6c1e4a38058cd1bc37010"
   }
  }
 },
 "nbformat": 4,
 "nbformat_minor": 2
}
